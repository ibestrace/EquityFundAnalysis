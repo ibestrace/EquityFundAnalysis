{
 "cells": [
  {
   "cell_type": "code",
   "execution_count": 2,
   "metadata": {
    "collapsed": true,
    "pycharm": {
     "name": "#%%\n"
    }
   },
   "outputs": [
    {
     "data": {
      "text/plain": "     基金代码        基金名称\n0  000082   嘉实研究阿尔法股票\n1  000309  大摩品质生活精选股票\n2  000326   南方中小盘成长股票\n3  000409    鹏华环保产业股票\n4  000411  景顺长城优质成长股票",
      "text/html": "<div>\n<style scoped>\n    .dataframe tbody tr th:only-of-type {\n        vertical-align: middle;\n    }\n\n    .dataframe tbody tr th {\n        vertical-align: top;\n    }\n\n    .dataframe thead th {\n        text-align: right;\n    }\n</style>\n<table border=\"1\" class=\"dataframe\">\n  <thead>\n    <tr style=\"text-align: right;\">\n      <th></th>\n      <th>基金代码</th>\n      <th>基金名称</th>\n    </tr>\n  </thead>\n  <tbody>\n    <tr>\n      <th>0</th>\n      <td>000082</td>\n      <td>嘉实研究阿尔法股票</td>\n    </tr>\n    <tr>\n      <th>1</th>\n      <td>000309</td>\n      <td>大摩品质生活精选股票</td>\n    </tr>\n    <tr>\n      <th>2</th>\n      <td>000326</td>\n      <td>南方中小盘成长股票</td>\n    </tr>\n    <tr>\n      <th>3</th>\n      <td>000409</td>\n      <td>鹏华环保产业股票</td>\n    </tr>\n    <tr>\n      <th>4</th>\n      <td>000411</td>\n      <td>景顺长城优质成长股票</td>\n    </tr>\n  </tbody>\n</table>\n</div>"
     },
     "execution_count": 2,
     "metadata": {},
     "output_type": "execute_result"
    }
   ],
   "source": [
    "# 读取基金列表\n",
    "import pandas as pd\n",
    "fundlist = pd.read_excel('E:\\Project\\portfolioanalysis\\EquityFundAnalysis\\data\\equityfund.xlsx',\n",
    "                         sheet_name='基金列表',\n",
    "                         dtype={'基金代码':'str'}\n",
    "                         )\n",
    "fundlist.head(5)"
   ]
  },
  {
   "cell_type": "code",
   "execution_count": 3,
   "outputs": [
    {
     "name": "stdout",
     "output_type": "stream",
     "text": [
      "000082\n",
      "000309\n",
      "000326\n",
      "000409\n",
      "000411\n",
      "000418\n",
      "000457\n",
      "000471\n",
      "000513\n",
      "000524\n",
      "000549\n",
      "000577\n",
      "000586\n",
      "000592\n",
      "000594\n",
      "000628\n",
      "000688\n",
      "000696\n",
      "000697\n",
      "000711\n",
      "000729\n",
      "000746\n",
      "000751\n",
      "000756\n",
      "000761\n",
      "000778\n",
      "000780\n",
      "000793\n",
      "000803\n",
      "000828\n",
      "000831\n",
      "000854\n",
      "000866\n",
      "000867\n",
      "000884\n",
      "000893\n",
      "000913\n",
      "000916\n",
      "000925\n",
      "000955\n",
      "000960\n",
      "000971\n",
      "000974\n",
      "000978\n",
      "000979\n",
      "000985\n",
      "000991\n",
      "000996\n",
      "001008\n",
      "001009\n",
      "001028\n",
      "001036\n",
      "001039\n",
      "001040\n",
      "001042\n",
      "001043\n",
      "001044\n",
      "001047\n",
      "001048\n",
      "001050\n",
      "001054\n",
      "001070\n",
      "001072\n",
      "001097\n",
      "001104\n",
      "001105\n",
      "001126\n",
      "001158\n",
      "001162\n",
      "001163\n",
      "001166\n",
      "001167\n",
      "001171\n",
      "001178\n",
      "001186\n",
      "001188\n",
      "001193\n",
      "001195\n",
      "001208\n",
      "001223\n",
      "001230\n",
      "001236\n",
      "001245\n",
      "001277\n",
      "001291\n",
      "001313\n",
      "001319\n",
      "001396\n",
      "001404\n",
      "001409\n",
      "001410\n",
      "001416\n",
      "001421\n",
      "001473\n",
      "001476\n",
      "001482\n",
      "001490\n",
      "001496\n",
      "001520\n",
      "001521\n",
      "001528\n",
      "001541\n",
      "001542\n",
      "001576\n",
      "001577\n",
      "001579\n",
      "001583\n",
      "001605\n",
      "001616\n",
      "001626\n",
      "001628\n",
      "001637\n",
      "001643\n",
      "001645\n",
      "001651\n",
      "001672\n",
      "001677\n",
      "001678\n",
      "001685\n",
      "001692\n",
      "001703\n",
      "001705\n",
      "001707\n",
      "001714\n",
      "001717\n",
      "001718\n",
      "001719\n",
      "001725\n",
      "001726\n",
      "001733\n",
      "001736\n",
      "001749\n",
      "001764\n",
      "001766\n",
      "001781\n",
      "001790\n",
      "001825\n",
      "001849\n",
      "001877\n",
      "001878\n",
      "001915\n",
      "001917\n",
      "001938\n",
      "001956\n",
      "001974\n",
      "001975\n",
      "002121\n",
      "002168\n",
      "002210\n",
      "002229\n",
      "002289\n",
      "002300\n",
      "002332\n",
      "002334\n",
      "002387\n",
      "002595\n",
      "002621\n",
      "002861\n",
      "002871\n",
      "002952\n",
      "002980\n",
      "003053\n",
      "003069\n",
      "003145\n",
      "003190\n",
      "003230\n",
      "003232\n",
      "003298\n",
      "003416\n",
      "003624\n",
      "003634\n",
      "003745\n",
      "003834\n",
      "003853\n",
      "003956\n",
      "003984\n",
      "004040\n",
      "004075\n",
      "004098\n",
      "004189\n",
      "004292\n",
      "004350\n",
      "004352\n",
      "004403\n",
      "004450\n",
      "004476\n",
      "004606\n",
      "004616\n",
      "004640\n",
      "004683\n",
      "004686\n",
      "004698\n",
      "004716\n",
      "004730\n",
      "004784\n",
      "004805\n",
      "004812\n",
      "004851\n",
      "004925\n",
      "004995\n",
      "004997\n",
      "005009\n",
      "005035\n",
      "005037\n",
      "005106\n",
      "005161\n",
      "005189\n",
      "005209\n",
      "005235\n",
      "005237\n",
      "005259\n",
      "005267\n",
      "005268\n",
      "005303\n",
      "005310\n",
      "005328\n",
      "005402\n",
      "005457\n",
      "005495\n",
      "005502\n",
      "005505\n",
      "005569\n",
      "005612\n",
      "005620\n",
      "005628\n",
      "005635\n",
      "005660\n",
      "005662\n",
      "005669\n",
      "005707\n",
      "005777\n",
      "005802\n",
      "005825\n",
      "005826\n",
      "005894\n",
      "005927\n",
      "005960\n",
      "005962\n",
      "005968\n",
      "005970\n",
      "005983\n",
      "006002\n",
      "006081\n",
      "006138\n",
      "006193\n",
      "006195\n",
      "006228\n",
      "006257\n",
      "006265\n",
      "006346\n",
      "006478\n",
      "006502\n",
      "006603\n",
      "006604\n",
      "006671\n",
      "006675\n",
      "006692\n",
      "006751\n",
      "006781\n",
      "006803\n",
      "006818\n",
      "006868\n",
      "006911\n",
      "006923\n",
      "006926\n",
      "006981\n",
      "007130\n",
      "007133\n",
      "007470\n",
      "110022\n",
      "160133\n",
      "160322\n",
      "160919\n",
      "162107\n",
      "162208\n",
      "163110\n",
      "164205\n",
      "167702\n",
      "206012\n",
      "320020\n",
      "320022\n",
      "340006\n",
      "360001\n",
      "376510\n",
      "399011\n",
      "450009\n",
      "519193\n",
      "519606\n",
      "519673\n",
      "519714\n",
      "519935\n",
      "519965\n",
      "519975\n",
      "540006\n",
      "540007\n",
      "540008\n",
      "540009\n",
      "540010\n",
      "580008\n",
      "671030\n",
      "673090\n"
     ]
    },
    {
     "data": {
      "text/plain": "                     000082  000309  000326  000409  000411  000418  000457  \\\n2013-05-28 00:00:00   1.000     NaN     NaN     NaN     NaN     NaN     NaN   \n2013-05-31 00:00:00   1.000     NaN     NaN     NaN     NaN     NaN     NaN   \n2013-06-07 00:00:00   0.997     NaN     NaN     NaN     NaN     NaN     NaN   \n2013-06-14 00:00:00   0.995     NaN     NaN     NaN     NaN     NaN     NaN   \n2013-06-21 00:00:00   0.990     NaN     NaN     NaN     NaN     NaN     NaN   \n\n                     000471  000513  000524  ...  519965  519975  540006  \\\n2013-05-28 00:00:00     NaN     NaN     NaN  ...     NaN     NaN  1.1673   \n2013-05-31 00:00:00     NaN     NaN     NaN  ...     NaN     NaN  1.1625   \n2013-06-07 00:00:00     NaN     NaN     NaN  ...     NaN     NaN  1.1120   \n2013-06-14 00:00:00     NaN     NaN     NaN  ...     NaN     NaN  1.1108   \n2013-06-21 00:00:00     NaN     NaN     NaN  ...     NaN     NaN  1.0838   \n\n                     540007  540008  540009  540010  580008  671030  673090  \n2013-05-28 00:00:00  0.8291  1.2921  0.9189  1.2621   1.134     NaN     NaN  \n2013-05-31 00:00:00  0.8270  1.2649  0.9139  1.2650   1.124     NaN     NaN  \n2013-06-07 00:00:00  0.7832  1.2222  0.8736  1.2135   1.075     NaN     NaN  \n2013-06-14 00:00:00  0.7966  1.2628  0.8722  1.2472   1.093     NaN     NaN  \n2013-06-21 00:00:00  0.7681  1.2193  0.8515  1.2027   1.049     NaN     NaN  \n\n[5 rows x 301 columns]",
      "text/html": "<div>\n<style scoped>\n    .dataframe tbody tr th:only-of-type {\n        vertical-align: middle;\n    }\n\n    .dataframe tbody tr th {\n        vertical-align: top;\n    }\n\n    .dataframe thead th {\n        text-align: right;\n    }\n</style>\n<table border=\"1\" class=\"dataframe\">\n  <thead>\n    <tr style=\"text-align: right;\">\n      <th></th>\n      <th>000082</th>\n      <th>000309</th>\n      <th>000326</th>\n      <th>000409</th>\n      <th>000411</th>\n      <th>000418</th>\n      <th>000457</th>\n      <th>000471</th>\n      <th>000513</th>\n      <th>000524</th>\n      <th>...</th>\n      <th>519965</th>\n      <th>519975</th>\n      <th>540006</th>\n      <th>540007</th>\n      <th>540008</th>\n      <th>540009</th>\n      <th>540010</th>\n      <th>580008</th>\n      <th>671030</th>\n      <th>673090</th>\n    </tr>\n  </thead>\n  <tbody>\n    <tr>\n      <th>2013-05-28 00:00:00</th>\n      <td>1.000</td>\n      <td>NaN</td>\n      <td>NaN</td>\n      <td>NaN</td>\n      <td>NaN</td>\n      <td>NaN</td>\n      <td>NaN</td>\n      <td>NaN</td>\n      <td>NaN</td>\n      <td>NaN</td>\n      <td>...</td>\n      <td>NaN</td>\n      <td>NaN</td>\n      <td>1.1673</td>\n      <td>0.8291</td>\n      <td>1.2921</td>\n      <td>0.9189</td>\n      <td>1.2621</td>\n      <td>1.134</td>\n      <td>NaN</td>\n      <td>NaN</td>\n    </tr>\n    <tr>\n      <th>2013-05-31 00:00:00</th>\n      <td>1.000</td>\n      <td>NaN</td>\n      <td>NaN</td>\n      <td>NaN</td>\n      <td>NaN</td>\n      <td>NaN</td>\n      <td>NaN</td>\n      <td>NaN</td>\n      <td>NaN</td>\n      <td>NaN</td>\n      <td>...</td>\n      <td>NaN</td>\n      <td>NaN</td>\n      <td>1.1625</td>\n      <td>0.8270</td>\n      <td>1.2649</td>\n      <td>0.9139</td>\n      <td>1.2650</td>\n      <td>1.124</td>\n      <td>NaN</td>\n      <td>NaN</td>\n    </tr>\n    <tr>\n      <th>2013-06-07 00:00:00</th>\n      <td>0.997</td>\n      <td>NaN</td>\n      <td>NaN</td>\n      <td>NaN</td>\n      <td>NaN</td>\n      <td>NaN</td>\n      <td>NaN</td>\n      <td>NaN</td>\n      <td>NaN</td>\n      <td>NaN</td>\n      <td>...</td>\n      <td>NaN</td>\n      <td>NaN</td>\n      <td>1.1120</td>\n      <td>0.7832</td>\n      <td>1.2222</td>\n      <td>0.8736</td>\n      <td>1.2135</td>\n      <td>1.075</td>\n      <td>NaN</td>\n      <td>NaN</td>\n    </tr>\n    <tr>\n      <th>2013-06-14 00:00:00</th>\n      <td>0.995</td>\n      <td>NaN</td>\n      <td>NaN</td>\n      <td>NaN</td>\n      <td>NaN</td>\n      <td>NaN</td>\n      <td>NaN</td>\n      <td>NaN</td>\n      <td>NaN</td>\n      <td>NaN</td>\n      <td>...</td>\n      <td>NaN</td>\n      <td>NaN</td>\n      <td>1.1108</td>\n      <td>0.7966</td>\n      <td>1.2628</td>\n      <td>0.8722</td>\n      <td>1.2472</td>\n      <td>1.093</td>\n      <td>NaN</td>\n      <td>NaN</td>\n    </tr>\n    <tr>\n      <th>2013-06-21 00:00:00</th>\n      <td>0.990</td>\n      <td>NaN</td>\n      <td>NaN</td>\n      <td>NaN</td>\n      <td>NaN</td>\n      <td>NaN</td>\n      <td>NaN</td>\n      <td>NaN</td>\n      <td>NaN</td>\n      <td>NaN</td>\n      <td>...</td>\n      <td>NaN</td>\n      <td>NaN</td>\n      <td>1.0838</td>\n      <td>0.7681</td>\n      <td>1.2193</td>\n      <td>0.8515</td>\n      <td>1.2027</td>\n      <td>1.049</td>\n      <td>NaN</td>\n      <td>NaN</td>\n    </tr>\n  </tbody>\n</table>\n<p>5 rows × 301 columns</p>\n</div>"
     },
     "execution_count": 3,
     "metadata": {},
     "output_type": "execute_result"
    }
   ],
   "source": [
    "# 获取基金净值数据\n",
    "import pandas as pd\n",
    "from utils import *\n",
    "\n",
    "EQD = pd.DataFrame()\n",
    "Column = []\n",
    "\n",
    "for C in fundlist['基金代码']:\n",
    "    FI = GetFundInfoByAkshare(fund=C, indicator='累计净值走势')\n",
    "    FI = FormatData(FI)\n",
    "    Column.append(C)\n",
    "    EQD = pd.concat([EQD, FI], axis=1)\n",
    "    print(C)\n",
    "EQD.columns = Column\n",
    "\n",
    "EQD.head(5)"
   ],
   "metadata": {
    "collapsed": false,
    "pycharm": {
     "name": "#%%\n"
    }
   }
  },
  {
   "cell_type": "code",
   "execution_count": 4,
   "outputs": [
    {
     "data": {
      "text/plain": "                     000082  000309  000326  000409  000411  000418  000457  \\\n2019-05-10 00:00:00   1.871   1.694  1.1234   1.534   1.472   1.778   1.814   \n2019-05-13 00:00:00   1.855   1.673  1.1127   1.516   1.457   1.749   1.788   \n2019-05-14 00:00:00   1.848   1.664  1.1048   1.506   1.449   1.740   1.780   \n2019-05-15 00:00:00   1.875   1.704  1.1190   1.551   1.474   1.801   1.816   \n2019-05-16 00:00:00   1.883   1.711  1.1236   1.550   1.482   1.796   1.816   \n\n                     000471  000513  000524  ...  519965  519975  540006  \\\n2019-05-10 00:00:00   1.718   1.621   1.706  ...   1.103   1.153  3.3782   \n2019-05-13 00:00:00   1.709   1.610   1.696  ...   1.089   1.150  3.3087   \n2019-05-14 00:00:00   1.699   1.596   1.692  ...   1.083   1.143  3.3004   \n2019-05-15 00:00:00   1.732   1.636   1.724  ...   1.106   1.157  3.3734   \n2019-05-16 00:00:00   1.739   1.649   1.731  ...   1.114   1.161  3.3657   \n\n                     540007  540008  540009  540010  580008  671030  673090  \n2019-05-10 00:00:00  1.1607  1.1276  1.2970  1.6837   1.785  1.1888  1.1081  \n2019-05-13 00:00:00  1.1436  1.1084  1.2891  1.6344   1.755  1.1770  1.0958  \n2019-05-14 00:00:00  1.1388  1.0978  1.2791  1.6183   1.754  1.1693  1.0876  \n2019-05-15 00:00:00  1.1598  1.1182  1.3019  1.6671   1.817  1.1893  1.1177  \n2019-05-16 00:00:00  1.1560  1.1215  1.3070  1.6451   1.836  1.1907  1.1215  \n\n[5 rows x 301 columns]",
      "text/html": "<div>\n<style scoped>\n    .dataframe tbody tr th:only-of-type {\n        vertical-align: middle;\n    }\n\n    .dataframe tbody tr th {\n        vertical-align: top;\n    }\n\n    .dataframe thead th {\n        text-align: right;\n    }\n</style>\n<table border=\"1\" class=\"dataframe\">\n  <thead>\n    <tr style=\"text-align: right;\">\n      <th></th>\n      <th>000082</th>\n      <th>000309</th>\n      <th>000326</th>\n      <th>000409</th>\n      <th>000411</th>\n      <th>000418</th>\n      <th>000457</th>\n      <th>000471</th>\n      <th>000513</th>\n      <th>000524</th>\n      <th>...</th>\n      <th>519965</th>\n      <th>519975</th>\n      <th>540006</th>\n      <th>540007</th>\n      <th>540008</th>\n      <th>540009</th>\n      <th>540010</th>\n      <th>580008</th>\n      <th>671030</th>\n      <th>673090</th>\n    </tr>\n  </thead>\n  <tbody>\n    <tr>\n      <th>2019-05-10 00:00:00</th>\n      <td>1.871</td>\n      <td>1.694</td>\n      <td>1.1234</td>\n      <td>1.534</td>\n      <td>1.472</td>\n      <td>1.778</td>\n      <td>1.814</td>\n      <td>1.718</td>\n      <td>1.621</td>\n      <td>1.706</td>\n      <td>...</td>\n      <td>1.103</td>\n      <td>1.153</td>\n      <td>3.3782</td>\n      <td>1.1607</td>\n      <td>1.1276</td>\n      <td>1.2970</td>\n      <td>1.6837</td>\n      <td>1.785</td>\n      <td>1.1888</td>\n      <td>1.1081</td>\n    </tr>\n    <tr>\n      <th>2019-05-13 00:00:00</th>\n      <td>1.855</td>\n      <td>1.673</td>\n      <td>1.1127</td>\n      <td>1.516</td>\n      <td>1.457</td>\n      <td>1.749</td>\n      <td>1.788</td>\n      <td>1.709</td>\n      <td>1.610</td>\n      <td>1.696</td>\n      <td>...</td>\n      <td>1.089</td>\n      <td>1.150</td>\n      <td>3.3087</td>\n      <td>1.1436</td>\n      <td>1.1084</td>\n      <td>1.2891</td>\n      <td>1.6344</td>\n      <td>1.755</td>\n      <td>1.1770</td>\n      <td>1.0958</td>\n    </tr>\n    <tr>\n      <th>2019-05-14 00:00:00</th>\n      <td>1.848</td>\n      <td>1.664</td>\n      <td>1.1048</td>\n      <td>1.506</td>\n      <td>1.449</td>\n      <td>1.740</td>\n      <td>1.780</td>\n      <td>1.699</td>\n      <td>1.596</td>\n      <td>1.692</td>\n      <td>...</td>\n      <td>1.083</td>\n      <td>1.143</td>\n      <td>3.3004</td>\n      <td>1.1388</td>\n      <td>1.0978</td>\n      <td>1.2791</td>\n      <td>1.6183</td>\n      <td>1.754</td>\n      <td>1.1693</td>\n      <td>1.0876</td>\n    </tr>\n    <tr>\n      <th>2019-05-15 00:00:00</th>\n      <td>1.875</td>\n      <td>1.704</td>\n      <td>1.1190</td>\n      <td>1.551</td>\n      <td>1.474</td>\n      <td>1.801</td>\n      <td>1.816</td>\n      <td>1.732</td>\n      <td>1.636</td>\n      <td>1.724</td>\n      <td>...</td>\n      <td>1.106</td>\n      <td>1.157</td>\n      <td>3.3734</td>\n      <td>1.1598</td>\n      <td>1.1182</td>\n      <td>1.3019</td>\n      <td>1.6671</td>\n      <td>1.817</td>\n      <td>1.1893</td>\n      <td>1.1177</td>\n    </tr>\n    <tr>\n      <th>2019-05-16 00:00:00</th>\n      <td>1.883</td>\n      <td>1.711</td>\n      <td>1.1236</td>\n      <td>1.550</td>\n      <td>1.482</td>\n      <td>1.796</td>\n      <td>1.816</td>\n      <td>1.739</td>\n      <td>1.649</td>\n      <td>1.731</td>\n      <td>...</td>\n      <td>1.114</td>\n      <td>1.161</td>\n      <td>3.3657</td>\n      <td>1.1560</td>\n      <td>1.1215</td>\n      <td>1.3070</td>\n      <td>1.6451</td>\n      <td>1.836</td>\n      <td>1.1907</td>\n      <td>1.1215</td>\n    </tr>\n  </tbody>\n</table>\n<p>5 rows × 301 columns</p>\n</div>"
     },
     "execution_count": 4,
     "metadata": {},
     "output_type": "execute_result"
    }
   ],
   "source": [
    "# 切出过去三年基金净值数据\n",
    "startD = pd.to_datetime('2019-05-10')\n",
    "endD = pd.to_datetime('2022-06-10')\n",
    "\n",
    "EQD = EQD.loc[startD:endD,:]\n",
    "EQD.head(5)"
   ],
   "metadata": {
    "collapsed": false,
    "pycharm": {
     "name": "#%%\n"
    }
   }
  },
  {
   "cell_type": "code",
   "execution_count": 5,
   "outputs": [
    {
     "data": {
      "text/plain": "000082    0\n000309    0\n000326    0\n000409    0\n000411    0\n         ..\n540009    0\n540010    0\n580008    0\n671030    0\n673090    0\nLength: 301, dtype: int64"
     },
     "execution_count": 5,
     "metadata": {},
     "output_type": "execute_result"
    }
   ],
   "source": [
    "# 统计基金数据缺失值\n",
    "EQD.isnull().sum()"
   ],
   "metadata": {
    "collapsed": false,
    "pycharm": {
     "name": "#%%\n"
    }
   }
  },
  {
   "cell_type": "code",
   "execution_count": 6,
   "outputs": [
    {
     "data": {
      "text/plain": "000082    0\n000309    0\n000326    0\n000409    0\n000411    0\n         ..\n540009    0\n540010    0\n580008    0\n671030    0\n673090    0\nLength: 294, dtype: int64"
     },
     "execution_count": 6,
     "metadata": {},
     "output_type": "execute_result"
    }
   ],
   "source": [
    "# 处理基金数据缺失值\n",
    "EQD.fillna(method='ffill',\n",
    "           inplace=True)\n",
    "EQD.dropna(axis=1,\n",
    "           inplace=True)\n",
    "EQD.isnull().sum()"
   ],
   "metadata": {
    "collapsed": false,
    "pycharm": {
     "name": "#%%\n"
    }
   }
  },
  {
   "cell_type": "code",
   "execution_count": 11,
   "outputs": [
    {
     "data": {
      "text/plain": "              000082    000309    000326    000409    000411    000418  \\\n2019-05-13 -0.008552 -0.012397 -0.009525 -0.011734 -0.010190 -0.016310   \n2019-05-14 -0.003774 -0.005380 -0.007100 -0.006596 -0.005491 -0.005146   \n2019-05-15  0.014610  0.024038  0.012853  0.029880  0.017253  0.035057   \n2019-05-16  0.004267  0.004108  0.004111 -0.000645  0.005427 -0.002776   \n2019-05-17 -0.015401 -0.021040 -0.020559 -0.023871 -0.020243 -0.025612   \n...              ...       ...       ...       ...       ...       ...   \n2022-06-06  0.015128  0.040611  0.018880  0.043573  0.009927  0.024994   \n2022-06-07  0.001911 -0.002491 -0.002599 -0.006482  0.006725 -0.005020   \n2022-06-08  0.002288  0.004440  0.000627  0.006333  0.005653  0.010812   \n2022-06-09 -0.007991 -0.022376 -0.011526 -0.017925 -0.011753 -0.016164   \n2022-06-10  0.008822  0.029952  0.012880  0.024272  0.006205  0.021261   \n\n              000457    000471    000513    000524  ...    519965    519975  \\\n2019-05-13 -0.014333 -0.005239 -0.006786 -0.005862  ... -0.012693 -0.002602   \n2019-05-14 -0.004474 -0.005851 -0.008696 -0.002358  ... -0.005510 -0.006087   \n2019-05-15  0.020225  0.019423  0.025063  0.018913  ...  0.021237  0.012248   \n2019-05-16  0.000000  0.004042  0.007946  0.004060  ...  0.007233  0.003457   \n2019-05-17 -0.020374 -0.016676 -0.027289 -0.016176  ... -0.027828 -0.018949   \n...              ...       ...       ...       ...  ...       ...       ...   \n2022-06-06  0.021199  0.014104  0.025711  0.019484  ...  0.027233  0.021774   \n2022-06-07 -0.005554 -0.000348  0.000295  0.002153  ...  0.008061  0.004678   \n2022-06-08 -0.001850  0.001043  0.013856  0.008730  ...  0.012446  0.005691   \n2022-06-09 -0.016857 -0.014246 -0.020355 -0.015644  ... -0.005284 -0.006687   \n2022-06-10  0.009178  0.011632  0.019294  0.016636  ...  0.019683  0.017607   \n\n              540006    540007    540008    540009    540010    580008  \\\n2019-05-13 -0.020573 -0.014732 -0.017027 -0.006091 -0.029281 -0.016807   \n2019-05-14 -0.002509 -0.004197 -0.009563 -0.007757 -0.009851 -0.000570   \n2019-05-15  0.022119  0.018440  0.018583  0.017825  0.030155  0.035918   \n2019-05-16 -0.002283 -0.003276  0.002951  0.003917 -0.013197  0.010457   \n2019-05-17 -0.026265 -0.029758 -0.034507 -0.018210 -0.034405 -0.023420   \n...              ...       ...       ...       ...       ...       ...   \n2022-06-06  0.027084  0.029876  0.056842  0.005010  0.036237  0.025755   \n2022-06-07  0.008332  0.005007 -0.004935  0.003359 -0.014417 -0.006182   \n2022-06-08  0.014417  0.009040  0.019743  0.003618  0.010045  0.008166   \n2022-06-09 -0.010464 -0.012369 -0.022540 -0.004466 -0.039855 -0.012214   \n2022-06-10  0.014056  0.018657  0.030658  0.002000  0.019376  0.016465   \n\n              671030    673090  \n2019-05-13 -0.009926 -0.011100  \n2019-05-14 -0.006542 -0.007483  \n2019-05-15  0.017104  0.027676  \n2019-05-16  0.001177  0.003400  \n2019-05-17 -0.022172 -0.020687  \n...              ...       ...  \n2022-06-06  0.026876  0.015782  \n2022-06-07  0.005771  0.000640  \n2022-06-08  0.013327  0.008258  \n2022-06-09 -0.011280 -0.010093  \n2022-06-10  0.010822  0.017479  \n\n[750 rows x 294 columns]",
      "text/html": "<div>\n<style scoped>\n    .dataframe tbody tr th:only-of-type {\n        vertical-align: middle;\n    }\n\n    .dataframe tbody tr th {\n        vertical-align: top;\n    }\n\n    .dataframe thead th {\n        text-align: right;\n    }\n</style>\n<table border=\"1\" class=\"dataframe\">\n  <thead>\n    <tr style=\"text-align: right;\">\n      <th></th>\n      <th>000082</th>\n      <th>000309</th>\n      <th>000326</th>\n      <th>000409</th>\n      <th>000411</th>\n      <th>000418</th>\n      <th>000457</th>\n      <th>000471</th>\n      <th>000513</th>\n      <th>000524</th>\n      <th>...</th>\n      <th>519965</th>\n      <th>519975</th>\n      <th>540006</th>\n      <th>540007</th>\n      <th>540008</th>\n      <th>540009</th>\n      <th>540010</th>\n      <th>580008</th>\n      <th>671030</th>\n      <th>673090</th>\n    </tr>\n  </thead>\n  <tbody>\n    <tr>\n      <th>2019-05-13</th>\n      <td>-0.008552</td>\n      <td>-0.012397</td>\n      <td>-0.009525</td>\n      <td>-0.011734</td>\n      <td>-0.010190</td>\n      <td>-0.016310</td>\n      <td>-0.014333</td>\n      <td>-0.005239</td>\n      <td>-0.006786</td>\n      <td>-0.005862</td>\n      <td>...</td>\n      <td>-0.012693</td>\n      <td>-0.002602</td>\n      <td>-0.020573</td>\n      <td>-0.014732</td>\n      <td>-0.017027</td>\n      <td>-0.006091</td>\n      <td>-0.029281</td>\n      <td>-0.016807</td>\n      <td>-0.009926</td>\n      <td>-0.011100</td>\n    </tr>\n    <tr>\n      <th>2019-05-14</th>\n      <td>-0.003774</td>\n      <td>-0.005380</td>\n      <td>-0.007100</td>\n      <td>-0.006596</td>\n      <td>-0.005491</td>\n      <td>-0.005146</td>\n      <td>-0.004474</td>\n      <td>-0.005851</td>\n      <td>-0.008696</td>\n      <td>-0.002358</td>\n      <td>...</td>\n      <td>-0.005510</td>\n      <td>-0.006087</td>\n      <td>-0.002509</td>\n      <td>-0.004197</td>\n      <td>-0.009563</td>\n      <td>-0.007757</td>\n      <td>-0.009851</td>\n      <td>-0.000570</td>\n      <td>-0.006542</td>\n      <td>-0.007483</td>\n    </tr>\n    <tr>\n      <th>2019-05-15</th>\n      <td>0.014610</td>\n      <td>0.024038</td>\n      <td>0.012853</td>\n      <td>0.029880</td>\n      <td>0.017253</td>\n      <td>0.035057</td>\n      <td>0.020225</td>\n      <td>0.019423</td>\n      <td>0.025063</td>\n      <td>0.018913</td>\n      <td>...</td>\n      <td>0.021237</td>\n      <td>0.012248</td>\n      <td>0.022119</td>\n      <td>0.018440</td>\n      <td>0.018583</td>\n      <td>0.017825</td>\n      <td>0.030155</td>\n      <td>0.035918</td>\n      <td>0.017104</td>\n      <td>0.027676</td>\n    </tr>\n    <tr>\n      <th>2019-05-16</th>\n      <td>0.004267</td>\n      <td>0.004108</td>\n      <td>0.004111</td>\n      <td>-0.000645</td>\n      <td>0.005427</td>\n      <td>-0.002776</td>\n      <td>0.000000</td>\n      <td>0.004042</td>\n      <td>0.007946</td>\n      <td>0.004060</td>\n      <td>...</td>\n      <td>0.007233</td>\n      <td>0.003457</td>\n      <td>-0.002283</td>\n      <td>-0.003276</td>\n      <td>0.002951</td>\n      <td>0.003917</td>\n      <td>-0.013197</td>\n      <td>0.010457</td>\n      <td>0.001177</td>\n      <td>0.003400</td>\n    </tr>\n    <tr>\n      <th>2019-05-17</th>\n      <td>-0.015401</td>\n      <td>-0.021040</td>\n      <td>-0.020559</td>\n      <td>-0.023871</td>\n      <td>-0.020243</td>\n      <td>-0.025612</td>\n      <td>-0.020374</td>\n      <td>-0.016676</td>\n      <td>-0.027289</td>\n      <td>-0.016176</td>\n      <td>...</td>\n      <td>-0.027828</td>\n      <td>-0.018949</td>\n      <td>-0.026265</td>\n      <td>-0.029758</td>\n      <td>-0.034507</td>\n      <td>-0.018210</td>\n      <td>-0.034405</td>\n      <td>-0.023420</td>\n      <td>-0.022172</td>\n      <td>-0.020687</td>\n    </tr>\n    <tr>\n      <th>...</th>\n      <td>...</td>\n      <td>...</td>\n      <td>...</td>\n      <td>...</td>\n      <td>...</td>\n      <td>...</td>\n      <td>...</td>\n      <td>...</td>\n      <td>...</td>\n      <td>...</td>\n      <td>...</td>\n      <td>...</td>\n      <td>...</td>\n      <td>...</td>\n      <td>...</td>\n      <td>...</td>\n      <td>...</td>\n      <td>...</td>\n      <td>...</td>\n      <td>...</td>\n      <td>...</td>\n    </tr>\n    <tr>\n      <th>2022-06-06</th>\n      <td>0.015128</td>\n      <td>0.040611</td>\n      <td>0.018880</td>\n      <td>0.043573</td>\n      <td>0.009927</td>\n      <td>0.024994</td>\n      <td>0.021199</td>\n      <td>0.014104</td>\n      <td>0.025711</td>\n      <td>0.019484</td>\n      <td>...</td>\n      <td>0.027233</td>\n      <td>0.021774</td>\n      <td>0.027084</td>\n      <td>0.029876</td>\n      <td>0.056842</td>\n      <td>0.005010</td>\n      <td>0.036237</td>\n      <td>0.025755</td>\n      <td>0.026876</td>\n      <td>0.015782</td>\n    </tr>\n    <tr>\n      <th>2022-06-07</th>\n      <td>0.001911</td>\n      <td>-0.002491</td>\n      <td>-0.002599</td>\n      <td>-0.006482</td>\n      <td>0.006725</td>\n      <td>-0.005020</td>\n      <td>-0.005554</td>\n      <td>-0.000348</td>\n      <td>0.000295</td>\n      <td>0.002153</td>\n      <td>...</td>\n      <td>0.008061</td>\n      <td>0.004678</td>\n      <td>0.008332</td>\n      <td>0.005007</td>\n      <td>-0.004935</td>\n      <td>0.003359</td>\n      <td>-0.014417</td>\n      <td>-0.006182</td>\n      <td>0.005771</td>\n      <td>0.000640</td>\n    </tr>\n    <tr>\n      <th>2022-06-08</th>\n      <td>0.002288</td>\n      <td>0.004440</td>\n      <td>0.000627</td>\n      <td>0.006333</td>\n      <td>0.005653</td>\n      <td>0.010812</td>\n      <td>-0.001850</td>\n      <td>0.001043</td>\n      <td>0.013856</td>\n      <td>0.008730</td>\n      <td>...</td>\n      <td>0.012446</td>\n      <td>0.005691</td>\n      <td>0.014417</td>\n      <td>0.009040</td>\n      <td>0.019743</td>\n      <td>0.003618</td>\n      <td>0.010045</td>\n      <td>0.008166</td>\n      <td>0.013327</td>\n      <td>0.008258</td>\n    </tr>\n    <tr>\n      <th>2022-06-09</th>\n      <td>-0.007991</td>\n      <td>-0.022376</td>\n      <td>-0.011526</td>\n      <td>-0.017925</td>\n      <td>-0.011753</td>\n      <td>-0.016164</td>\n      <td>-0.016857</td>\n      <td>-0.014246</td>\n      <td>-0.020355</td>\n      <td>-0.015644</td>\n      <td>...</td>\n      <td>-0.005284</td>\n      <td>-0.006687</td>\n      <td>-0.010464</td>\n      <td>-0.012369</td>\n      <td>-0.022540</td>\n      <td>-0.004466</td>\n      <td>-0.039855</td>\n      <td>-0.012214</td>\n      <td>-0.011280</td>\n      <td>-0.010093</td>\n    </tr>\n    <tr>\n      <th>2022-06-10</th>\n      <td>0.008822</td>\n      <td>0.029952</td>\n      <td>0.012880</td>\n      <td>0.024272</td>\n      <td>0.006205</td>\n      <td>0.021261</td>\n      <td>0.009178</td>\n      <td>0.011632</td>\n      <td>0.019294</td>\n      <td>0.016636</td>\n      <td>...</td>\n      <td>0.019683</td>\n      <td>0.017607</td>\n      <td>0.014056</td>\n      <td>0.018657</td>\n      <td>0.030658</td>\n      <td>0.002000</td>\n      <td>0.019376</td>\n      <td>0.016465</td>\n      <td>0.010822</td>\n      <td>0.017479</td>\n    </tr>\n  </tbody>\n</table>\n<p>750 rows × 294 columns</p>\n</div>"
     },
     "execution_count": 11,
     "metadata": {},
     "output_type": "execute_result"
    }
   ],
   "source": [
    "Y = EQD.pct_change().dropna()\n",
    "Y"
   ],
   "metadata": {
    "collapsed": false,
    "pycharm": {
     "name": "#%%\n"
    }
   }
  },
  {
   "cell_type": "code",
   "execution_count": 13,
   "outputs": [
    {
     "ename": "ValueError",
     "evalue": "invalid literal for int() with base 10: 'None'",
     "output_type": "error",
     "traceback": [
      "\u001B[1;31m---------------------------------------------------------------------------\u001B[0m",
      "\u001B[1;31mValueError\u001B[0m                                Traceback (most recent call last)",
      "Input \u001B[1;32mIn [13]\u001B[0m, in \u001B[0;36m<cell line: 4>\u001B[1;34m()\u001B[0m\n\u001B[0;32m      1\u001B[0m \u001B[38;5;66;03m# 股票型基金进行层次聚类分析\u001B[39;00m\n\u001B[0;32m      2\u001B[0m \u001B[38;5;28;01mimport\u001B[39;00m \u001B[38;5;21;01mriskfolio\u001B[39;00m \u001B[38;5;28;01mas\u001B[39;00m \u001B[38;5;21;01mrp\u001B[39;00m\n\u001B[1;32m----> 4\u001B[0m clusters \u001B[38;5;241m=\u001B[39m \u001B[43mrp\u001B[49m\u001B[38;5;241;43m.\u001B[39;49m\u001B[43massets_clusters\u001B[49m\u001B[43m(\u001B[49m\u001B[43mreturns\u001B[49m\u001B[38;5;241;43m=\u001B[39;49m\u001B[43mY\u001B[49m\u001B[43m,\u001B[49m\n\u001B[0;32m      5\u001B[0m \u001B[43m                              \u001B[49m\u001B[43mcodependence\u001B[49m\u001B[38;5;241;43m=\u001B[39;49m\u001B[38;5;124;43m'\u001B[39;49m\u001B[38;5;124;43mpearson\u001B[39;49m\u001B[38;5;124;43m'\u001B[39;49m\u001B[43m,\u001B[49m\n\u001B[0;32m      6\u001B[0m \u001B[43m                              \u001B[49m\u001B[43mlinkage\u001B[49m\u001B[38;5;241;43m=\u001B[39;49m\u001B[38;5;124;43m'\u001B[39;49m\u001B[38;5;124;43mDBHT\u001B[39;49m\u001B[38;5;124;43m'\u001B[39;49m\u001B[43m,\u001B[49m\n\u001B[0;32m      7\u001B[0m \u001B[43m                              \u001B[49m\u001B[43mk\u001B[49m\u001B[43m \u001B[49m\u001B[38;5;241;43m=\u001B[39;49m\u001B[43m \u001B[49m\u001B[38;5;124;43m'\u001B[39;49m\u001B[38;5;124;43mNone\u001B[39;49m\u001B[38;5;124;43m'\u001B[39;49m\u001B[43m,\u001B[49m\n\u001B[0;32m      8\u001B[0m \u001B[43m                              \u001B[49m\u001B[43mmax_k\u001B[49m\u001B[38;5;241;43m=\u001B[39;49m\u001B[38;5;241;43m12\u001B[39;49m\u001B[43m,\u001B[49m\n\u001B[0;32m      9\u001B[0m \u001B[43m                              \u001B[49m\u001B[43mleaf_order\u001B[49m\u001B[38;5;241;43m=\u001B[39;49m\u001B[38;5;28;43;01mTrue\u001B[39;49;00m\u001B[43m)\u001B[49m\n\u001B[0;32m     11\u001B[0m clusters\n",
      "File \u001B[1;32m~\\.conda\\envs\\qtconda\\lib\\site-packages\\riskfolio\\ConstraintsFunctions.py:804\u001B[0m, in \u001B[0;36massets_clusters\u001B[1;34m(returns, codependence, linkage, k, max_k, bins_info, alpha_tail, leaf_order)\u001B[0m\n\u001B[0;32m    801\u001B[0m     k \u001B[38;5;241m=\u001B[39m af\u001B[38;5;241m.\u001B[39mtwo_diff_gap_stat(codep, dist, clustering, max_k)\n\u001B[0;32m    803\u001B[0m \u001B[38;5;66;03m# Building clusters\u001B[39;00m\n\u001B[1;32m--> 804\u001B[0m clusters_inds \u001B[38;5;241m=\u001B[39m \u001B[43mhr\u001B[49m\u001B[38;5;241;43m.\u001B[39;49m\u001B[43mfcluster\u001B[49m\u001B[43m(\u001B[49m\u001B[43mclustering\u001B[49m\u001B[43m,\u001B[49m\u001B[43m \u001B[49m\u001B[43mk\u001B[49m\u001B[43m,\u001B[49m\u001B[43m \u001B[49m\u001B[43mcriterion\u001B[49m\u001B[38;5;241;43m=\u001B[39;49m\u001B[38;5;124;43m\"\u001B[39;49m\u001B[38;5;124;43mmaxclust\u001B[39;49m\u001B[38;5;124;43m\"\u001B[39;49m\u001B[43m)\u001B[49m\n\u001B[0;32m    805\u001B[0m labels \u001B[38;5;241m=\u001B[39m np\u001B[38;5;241m.\u001B[39marray(returns\u001B[38;5;241m.\u001B[39mcolumns\u001B[38;5;241m.\u001B[39mtolist())\n\u001B[0;32m    807\u001B[0m clusters \u001B[38;5;241m=\u001B[39m {\u001B[38;5;124m\"\u001B[39m\u001B[38;5;124mAssets\u001B[39m\u001B[38;5;124m\"\u001B[39m: [], \u001B[38;5;124m\"\u001B[39m\u001B[38;5;124mClusters\u001B[39m\u001B[38;5;124m\"\u001B[39m: []}\n",
      "File \u001B[1;32m~\\.conda\\envs\\qtconda\\lib\\site-packages\\scipy\\cluster\\hierarchy.py:2598\u001B[0m, in \u001B[0;36mfcluster\u001B[1;34m(Z, t, criterion, depth, R, monocrit)\u001B[0m\n\u001B[0;32m   2596\u001B[0m     _hierarchy\u001B[38;5;241m.\u001B[39mcluster_dist(Z, T, \u001B[38;5;28mfloat\u001B[39m(t), \u001B[38;5;28mint\u001B[39m(n))\n\u001B[0;32m   2597\u001B[0m \u001B[38;5;28;01melif\u001B[39;00m criterion \u001B[38;5;241m==\u001B[39m \u001B[38;5;124m'\u001B[39m\u001B[38;5;124mmaxclust\u001B[39m\u001B[38;5;124m'\u001B[39m:\n\u001B[1;32m-> 2598\u001B[0m     _hierarchy\u001B[38;5;241m.\u001B[39mcluster_maxclust_dist(Z, T, \u001B[38;5;28mint\u001B[39m(n), \u001B[38;5;28;43mint\u001B[39;49m\u001B[43m(\u001B[49m\u001B[43mt\u001B[49m\u001B[43m)\u001B[49m)\n\u001B[0;32m   2599\u001B[0m \u001B[38;5;28;01melif\u001B[39;00m criterion \u001B[38;5;241m==\u001B[39m \u001B[38;5;124m'\u001B[39m\u001B[38;5;124mmonocrit\u001B[39m\u001B[38;5;124m'\u001B[39m:\n\u001B[0;32m   2600\u001B[0m     [monocrit] \u001B[38;5;241m=\u001B[39m _copy_arrays_if_base_present([monocrit])\n",
      "\u001B[1;31mValueError\u001B[0m: invalid literal for int() with base 10: 'None'"
     ]
    }
   ],
   "source": [
    "# 股票型基金进行层次聚类分析\n",
    "import riskfolio as rp\n",
    "\n",
    "clusters = rp.assets_clusters(returns=Y,\n",
    "                              codependence='pearson',\n",
    "                              linkage='DBHT',\n",
    "                              k = 'None',\n",
    "                              max_k=12,\n",
    "                              leaf_order=True)\n",
    "\n",
    "clusters"
   ],
   "metadata": {
    "collapsed": false,
    "pycharm": {
     "name": "#%%\n"
    }
   }
  },
  {
   "cell_type": "code",
   "execution_count": 9,
   "outputs": [
    {
     "data": {
      "text/plain": "<AxesSubplot:title={'center':'Assets Dendrogram (Pearson & DBHT linkage)'}>"
     },
     "execution_count": 9,
     "metadata": {},
     "output_type": "execute_result"
    },
    {
     "data": {
      "text/plain": "<Figure size 864x360 with 1 Axes>",
      "image/png": "[encoded data removed]"
     },
     "metadata": {
      "needs_background": "light"
     },
     "output_type": "display_data"
    }
   ],
   "source": [
    "rp.plot_dendrogram(returns=Y,\n",
    "                   codependence='pearson',\n",
    "                   linkage='DBHT',\n",
    "                   k=None,\n",
    "                   max_k=10,\n",
    "                   leaf_order=True)"
   ],
   "metadata": {
    "collapsed": false,
    "pycharm": {
     "name": "#%%\n"
    }
   }
  }
 ],
 "metadata": {
  "kernelspec": {
   "display_name": "Python 3",
   "language": "python",
   "name": "python3"
  },
  "language_info": {
   "codemirror_mode": {
    "name": "ipython",
    "version": 2
   },
   "file_extension": ".py",
   "mimetype": "text/x-python",
   "name": "python",
   "nbconvert_exporter": "python",
   "pygments_lexer": "ipython2",
   "version": "2.7.6"
  }
 },
 "nbformat": 4,
 "nbformat_minor": 0
}